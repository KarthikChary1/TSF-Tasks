{
 "cells": [
  {
   "cell_type": "markdown",
   "metadata": {},
   "source": [
    " # Task 2:Exploring Supervised Machine Learning\n",
    " \n"
   ]
  },
  {
   "cell_type": "markdown",
   "metadata": {},
   "source": [
    "Question : In this regression task we will predict the percentage of marks that a student is expected to score based upon the number of hours they studied. This is a simple linear regression task as it involves just two variables.\n",
    "-->Data can be found at http://bit.ly/w-data\n",
    "What will be predicted score if a student study for 9.25 hrs in a\n",
    "day?\n",
    "\n",
    "Sample solution can be found here > https://drive.google.com/file/d/1koGHPElsHuXo9HPL4BQkZWRMJkOEHiv4/view"
    
    "\n","By Karthik C"
   ]
  },
  {
   "cell_type": "code",
   "execution_count": 1,
   "metadata": {},
   "outputs": [],
   "source": [
    "#let's import all the basic and required libraries\n",
    "import pandas as pd\n",
    "import numpy as np\n",
    "import matplotlib.pyplot as plt\n",
    "import seaborn as sns\n",
    "%matplotlib inline "
   ]
  },
  {
   "cell_type": "code",
   "execution_count": 2,
   "metadata": {},
   "outputs": [
    {
     "data": {
      "text/html": [
       "<div>\n",
       "<style scoped>\n",
       "    .dataframe tbody tr th:only-of-type {\n",
       "        vertical-align: middle;\n",
       "    }\n",
       "\n",
       "    .dataframe tbody tr th {\n",
       "        vertical-align: top;\n",
       "    }\n",
       "\n",
       "    .dataframe thead th {\n",
       "        text-align: right;\n",
       "    }\n",
       "</style>\n",
       "<table border=\"1\" class=\"dataframe\">\n",
       "  <thead>\n",
       "    <tr style=\"text-align: right;\">\n",
       "      <th></th>\n",
       "      <th>Hours</th>\n",
       "      <th>Scores</th>\n",
       "    </tr>\n",
       "  </thead>\n",
       "  <tbody>\n",
       "    <tr>\n",
       "      <th>0</th>\n",
       "      <td>2.5</td>\n",
       "      <td>21</td>\n",
       "    </tr>\n",
       "    <tr>\n",
       "      <th>1</th>\n",
       "      <td>5.1</td>\n",
       "      <td>47</td>\n",
       "    </tr>\n",
       "    <tr>\n",
       "      <th>2</th>\n",
       "      <td>3.2</td>\n",
       "      <td>27</td>\n",
       "    </tr>\n",
       "    <tr>\n",
       "      <th>3</th>\n",
       "      <td>8.5</td>\n",
       "      <td>75</td>\n",
       "    </tr>\n",
       "    <tr>\n",
       "      <th>4</th>\n",
       "      <td>3.5</td>\n",
       "      <td>30</td>\n",
       "    </tr>\n",
       "  </tbody>\n",
       "</table>\n",
       "</div>"
      ],
      "text/plain": [
       "   Hours  Scores\n",
       "0    2.5      21\n",
       "1    5.1      47\n",
       "2    3.2      27\n",
       "3    8.5      75\n",
       "4    3.5      30"
      ]
     },
     "execution_count": 2,
     "metadata": {},
     "output_type": "execute_result"
    }
   ],
   "source": [
    "#let's import dataset from the given URL\n",
    "URL=\"http://bit.ly/w-data\"\n",
    "df=pd.read_csv(URL)\n",
    "df.head()"
   ]
  },
  {
   "cell_type": "code",
   "execution_count": 3,
   "metadata": {},
   "outputs": [
    {
     "name": "stdout",
     "output_type": "stream",
     "text": [
      "<class 'pandas.core.frame.DataFrame'>\n",
      "RangeIndex: 25 entries, 0 to 24\n",
      "Data columns (total 2 columns):\n",
      " #   Column  Non-Null Count  Dtype  \n",
      "---  ------  --------------  -----  \n",
      " 0   Hours   25 non-null     float64\n",
      " 1   Scores  25 non-null     int64  \n",
      "dtypes: float64(1), int64(1)\n",
      "memory usage: 528.0 bytes\n",
      "None\n"
     ]
    }
   ],
   "source": [
    "print(df.info())"
   ]
  },
  {
   "cell_type": "code",
   "execution_count": 4,
   "metadata": {},
   "outputs": [
    {
     "data": {
      "text/plain": [
       "Hours     0\n",
       "Scores    0\n",
       "dtype: int64"
      ]
     },
     "execution_count": 4,
     "metadata": {},
     "output_type": "execute_result"
    }
   ],
   "source": [
    "df.isnull().sum()"
   ]
  },
  {
   "cell_type": "code",
   "execution_count": 5,
   "metadata": {},
   "outputs": [
    {
     "data": {
      "text/html": [
       "<div>\n",
       "<style scoped>\n",
       "    .dataframe tbody tr th:only-of-type {\n",
       "        vertical-align: middle;\n",
       "    }\n",
       "\n",
       "    .dataframe tbody tr th {\n",
       "        vertical-align: top;\n",
       "    }\n",
       "\n",
       "    .dataframe thead th {\n",
       "        text-align: right;\n",
       "    }\n",
       "</style>\n",
       "<table border=\"1\" class=\"dataframe\">\n",
       "  <thead>\n",
       "    <tr style=\"text-align: right;\">\n",
       "      <th></th>\n",
       "      <th>Hours</th>\n",
       "      <th>Scores</th>\n",
       "    </tr>\n",
       "  </thead>\n",
       "  <tbody>\n",
       "    <tr>\n",
       "      <th>count</th>\n",
       "      <td>25.000000</td>\n",
       "      <td>25.000000</td>\n",
       "    </tr>\n",
       "    <tr>\n",
       "      <th>mean</th>\n",
       "      <td>5.012000</td>\n",
       "      <td>51.480000</td>\n",
       "    </tr>\n",
       "    <tr>\n",
       "      <th>std</th>\n",
       "      <td>2.525094</td>\n",
       "      <td>25.286887</td>\n",
       "    </tr>\n",
       "    <tr>\n",
       "      <th>min</th>\n",
       "      <td>1.100000</td>\n",
       "      <td>17.000000</td>\n",
       "    </tr>\n",
       "    <tr>\n",
       "      <th>25%</th>\n",
       "      <td>2.700000</td>\n",
       "      <td>30.000000</td>\n",
       "    </tr>\n",
       "    <tr>\n",
       "      <th>50%</th>\n",
       "      <td>4.800000</td>\n",
       "      <td>47.000000</td>\n",
       "    </tr>\n",
       "    <tr>\n",
       "      <th>75%</th>\n",
       "      <td>7.400000</td>\n",
       "      <td>75.000000</td>\n",
       "    </tr>\n",
       "    <tr>\n",
       "      <th>max</th>\n",
       "      <td>9.200000</td>\n",
       "      <td>95.000000</td>\n",
       "    </tr>\n",
       "  </tbody>\n",
       "</table>\n",
       "</div>"
      ],
      "text/plain": [
       "           Hours     Scores\n",
       "count  25.000000  25.000000\n",
       "mean    5.012000  51.480000\n",
       "std     2.525094  25.286887\n",
       "min     1.100000  17.000000\n",
       "25%     2.700000  30.000000\n",
       "50%     4.800000  47.000000\n",
       "75%     7.400000  75.000000\n",
       "max     9.200000  95.000000"
      ]
     },
     "execution_count": 5,
     "metadata": {},
     "output_type": "execute_result"
    }
   ],
   "source": [
    "df.describe()"
   ]
  },
  {
   "cell_type": "code",
   "execution_count": 6,
   "metadata": {},
   "outputs": [
    {
     "data": {
      "text/html": [
       "<div>\n",
       "<style scoped>\n",
       "    .dataframe tbody tr th:only-of-type {\n",
       "        vertical-align: middle;\n",
       "    }\n",
       "\n",
       "    .dataframe tbody tr th {\n",
       "        vertical-align: top;\n",
       "    }\n",
       "\n",
       "    .dataframe thead th {\n",
       "        text-align: right;\n",
       "    }\n",
       "</style>\n",
       "<table border=\"1\" class=\"dataframe\">\n",
       "  <thead>\n",
       "    <tr style=\"text-align: right;\">\n",
       "      <th></th>\n",
       "      <th>Hours</th>\n",
       "      <th>Scores</th>\n",
       "    </tr>\n",
       "  </thead>\n",
       "  <tbody>\n",
       "    <tr>\n",
       "      <th>15</th>\n",
       "      <td>8.9</td>\n",
       "      <td>95</td>\n",
       "    </tr>\n",
       "    <tr>\n",
       "      <th>6</th>\n",
       "      <td>9.2</td>\n",
       "      <td>88</td>\n",
       "    </tr>\n",
       "    <tr>\n",
       "      <th>24</th>\n",
       "      <td>7.8</td>\n",
       "      <td>86</td>\n",
       "    </tr>\n",
       "    <tr>\n",
       "      <th>10</th>\n",
       "      <td>7.7</td>\n",
       "      <td>85</td>\n",
       "    </tr>\n",
       "    <tr>\n",
       "      <th>8</th>\n",
       "      <td>8.3</td>\n",
       "      <td>81</td>\n",
       "    </tr>\n",
       "  </tbody>\n",
       "</table>\n",
       "</div>"
      ],
      "text/plain": [
       "    Hours  Scores\n",
       "15    8.9      95\n",
       "6     9.2      88\n",
       "24    7.8      86\n",
       "10    7.7      85\n",
       "8     8.3      81"
      ]
     },
     "execution_count": 6,
     "metadata": {},
     "output_type": "execute_result"
    }
   ],
   "source": [
    "df.sort_values(by=\"Scores\",ascending=False).head()"
   ]
  },
  {
   "cell_type": "markdown",
   "metadata": {},
   "source": [
    "### Lets do some EDA"
   ]
  },
  {
   "cell_type": "code",
   "execution_count": 7,
   "metadata": {},
   "outputs": [
    {
     "data": {
      "text/plain": [
       "<AxesSubplot:title={'center':'Correlation Heatmap'}>"
      ]
     },
     "execution_count": 7,
     "metadata": {},
     "output_type": "execute_result"
    },
    {
     "data": {
      "image/png": "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\n",
      "text/plain": [
       "<Figure size 432x288 with 2 Axes>"
      ]
     },
     "metadata": {
      "needs_background": "light"
     },
     "output_type": "display_data"
    }
   ],
   "source": [
    "plt.title(\"Correlation Heatmap\")\n",
    "sns.heatmap(df.corr(),annot=True,vmin=0,vmax=1)"
   ]
  },
  {
   "cell_type": "code",
   "execution_count": 9,
   "metadata": {},
   "outputs": [
    {
     "data": {
      "text/plain": [
       "<AxesSubplot:title={'center':'Regression Line'}, xlabel='Hours', ylabel='Scores'>"
      ]
     },
     "execution_count": 9,
     "metadata": {},
     "output_type": "execute_result"
    },
    {
     "data": {
      "image/png": "iVBORw0KGgoAAAANSUhEUgAAAYUAAAEWCAYAAACJ0YulAAAAOXRFWHRTb2Z0d2FyZQBNYXRwbG90bGliIHZlcnNpb24zLjMuMSwgaHR0cHM6Ly9tYXRwbG90bGliLm9yZy/d3fzzAAAACXBIWXMAAAsTAAALEwEAmpwYAAA6PklEQVR4nO3dd3yc9Znv/c81mlHvcpOtalNMN7jiwjqQQkhoSSBOIDQ7cPbZk7DnPFvI7rPZbF6b52TPlrPssy3EphNaSAIhbAKBEFywsU2zwVSrulu9zGja9fxx3xpURtJIljQj6Xq/Xn5ZujVzzw8jzVf3/fv9rktUFWOMMQbAk+wBGGOMSR0WCsYYY2IsFIwxxsRYKBhjjImxUDDGGBNjoWCMMSbGQsGYCSIi60Tk/Ul+zb8Qkc2T+ZpmehHbp2BSmYjUAnOBCNAJ/Br476ramcxxJZOIVAE1gE9Vw0kejplm7ErBTAVXqmousAS4EPjOeL+AiHjH+5zGTEUWCmbKUNWjwG9wwgEAEVklIjtEpFVE3hKR9X2+Vi0ir4hIh4j8VkT+TUQedr9WJSIqIhtFpB54yT1+m4gcEJEWEfmNiFS6x0VE/o+IHBeRNhF5W0TOdb92hYi8677OIRH5E/f4ehFp7DOes0TkZXes74jIVX2+dr87vl+559klIotG+28kIt+L8994s4jUi8hJEfnLPo/1iMhdIvKxiDSJyBMiUjza1zTTi4WCmTJEpAz4PPCR+/kC4FfA3wLFwJ8AT4nIbPcpPwFeA0qA7wHfiHPaPwDOAj4nItcAfwF8CZgNbAUedR/3WeAS4AygEPgq0OR+bQtwh6rmAefiBsyAsfuAXwLPA3OAbwGPiMiZfR72NeBvgCL3v/EHCfyzJGItcCZwGfBdETnLPf5t4Bqcf4P5QAvwb+P0mmaKslAwU8EvRKQDaACOA3/tHr8ReE5Vn1PVqKq+AOwBrhCRCmA58F1VDarqNuCZOOf+nqp2qaofuAP4X6p6wL1X//8CS9yrhRCQByzGmYs7oKpH3HOEgLNFJF9VW1T19TivswrIBX7ojucl4FmcIOj1M1V9zX3tR+hzRXSK/kZV/ar6FvAWcIF7/A7gL1W1UVV7cILzK3YrbWazUDBTwTXub+Hrcd6UZ7nHK4Hr3NsxrSLSivNbcSnOb77Nqtrd5zwNcc7d91glcHefczUDAixw38T/Fec36WMico+I5LvP+zJwBVAnIr8XkYvjvM58oEFVo32O1QEL+nx+tM/H3TghMh6GOm8l8PM+/70HcCb0547T65opyELBTBmq+nvgfuAf3EMNwEOqWtjnT46q/hA4AhSLSHafU5THO22fjxtwbgP1PV+Wqu5wX/9fVHUpcA7ObaQ/dY/vVtWrcW4L/QJ4Is7rHAbKRaTvz1wFcGg0/wbjrAH4/ID/3kxVTeaYTJJZKJip5p+Bz4jIEuBh4EoR+ZyIpIlIpju5W6aqdTi3kr4nIunub+9XjnDu/wS+IyLnAIhIgYhc5368XERWunMDXUAAiLjnvkFEClQ1BLTj/LY90C73eX8mIj53QvxK4LFT+LfIcP+be/+M9uf5P4Ef9JlMny0iV5/CeMw0YKFgphRVPQE8CPyVqjYAV+NMDp/A+c33T/nk+/oG4GKcCeG/BR4HeoY598+BvwMeE5F2YD/OxDZAPvBjnMnYOvecvVcs3wBq3ef8N5y5joHnDgJXuec7Cfw7cJOqvjfqf4RPdAL+Pn8uHeXz78aZZ3nenbPZCaw8hfGYacA2r5kZQ0QeB95T1b8e8cHGzFB2pWCmLfeWzyJ3Pf7lOFcVv0jysIxJabb0zExn84Cf4exTaAT+UFXfSO6QjEltdvvIGGNMjN0+MsYYEzOlbx/NmjVLq6qqkj0MY4yZUvbu3XtSVWfH+9qUDoWqqir27NmT7GEYY8yUIiJ1Q31twm4fici9bkXJ/X2OFYvICyLyoft3UZ+vfUdEPhKR90XkcxM1LmOMMUObyDmF+4HLBxy7C3hRVU8HXnQ/R0TOBjbglA+4HPh3EUmbwLEZY4yJY8JCQVVfwSko1tfVwAPuxw/glO3tPf6Yqvaoag1O2eAVEzU2Y4wx8U326qO5veWG3b/nuMcX0L9aZSP9q0fGiMjtIrJHRPacOHFiQgdrjDEzTaosSZU4x+JuoFDVe1R1maoumz077uS5McaYMZrsUDgmIqUA7t/H3eON9C9rXIZTatgYY8wkmuxQeAa42f34ZuDpPsc3iEiGiFQDp+O0UTTGGDOJJmyfgog8itMpa5bbvPyvgR8CT4jIRqAeuA5AVd8RkSeAd4Ew8EeqGq8mvTHGmAk0YaGgql8b4kuXDfH4HzB+jcqNMcbE0R4IDfv1Kb2j2RhjTGL8wQhNXT0Ew9FhH2ehYIwx01goEqW5K0hXTzihx1soGGPMFPXye8f50SsHaWjpprwomzsuWcj6xc72r2hUafWHaPOHGE2LBAsFY4yZgl5+7zjffeYdfGlCYZaP4x0BvvvMO3wfWFpVREtXiHB0+FtF8aTK5jVjjDGj8KNXDuJLE7LTvYg4f6d54F9e+pATHT1jCgSwUDDGmCmpoaWbLJ9TN1RVCUWieD3C4Vb/KZ3XQsEYY6ag8qJsuoNhwpEowUiUaFQJhKLMy886pfNaKBhjzBR006pKAqEonT1hVBV/KEI4qmxYXj7yk4dhoWCMMVNIIBThUKufM0vz+Palp1OSk0FHIExJTgZ3Xno6KxYWn9L5bfWRMcZMAWF3v0Fnn/0GKxYWjzoEuoPD71ewUDDGmBQ21v0GAwXDUZ556zCP7Kof9nEWCsYYk6LaAyFauoJEomMPg0hUef6dozzwah3HO3pGfLyFgjHGpJhE6xQNR1V55cOT3Le9lvrmbgC8HuEL55fyL8M8z0LBGGNSRE84QktXaMT7/sNRVfbUtbBlWw0fHOsEnNaWl501h1tWVzG/MMtCwRhjUlk4EqWlO0THCGWtR3LgSDs/3lrDmw2tsWOrF5Vw25oqFs7OTegcFgrGGJMkqkqbP0Rrd4joKUwi15zs4t5tNWz/uCl27IKyAjatq+ac+QWjOpeFgjHGJEFnT5jmzuCYaxQBHG0LcP+OWl549xi9kXL6nFw2ratmWWURIjLqc1ooGGPMJAqEIjR1BekJjb3jcHNXkId31vHs20cIuyuTyoqyuG1NNZecMQvPGMKgl4WCMcZMgnAkSnN3kM7A2CeROwNhHt/TwFN7Gwm4K5Nm52Zw08WVXH7uPNI8w4fBawebeWx3A77ZVecN9RgLBWOMmUDjMW8QCEX4xRuHeHR3Ax1uqORnerlhZQVXXTCfDLda6nBeO9jM3S99iNcjoNEhk8lCwRhjJkhXT5jmriChyNjmDcKRKP+1/ygP7qyjqTMIQKbPw/VLy7luWRk5GYm/hT+2uwGvR2LltodioWCMMeOsJxyhuSuIPzi2eYOoKr977wT376jlkNsfwZcmXHnBfG5YWUFRdvqoz3mk3U9+5shv+RYKxpgZb7hex6MRiSot3UHa/WPbb6Cq7KppZsu2Gj4+0QWAR+CzZ8/jptWVzMvPHNN5AUrzs2ju7iEnffi3fQsFY8yMNlyv40SDQVVpD4Rp7R57naJ9jW1s3naQfYfaY8cuOX0Wt66porIkZ0zn7JXmETatq+bvfv0ewRFuZVkoGGNmtL69jgGy0710B8P86JWDCYWCPxjhZGfPmOcNPj7eyeZtNeyqaY4dW1pZxKa11Zw5L29M5+zl9XgoyPaRn+mlsiSH3AwvP3rlIIhnyPd+CwVjzIzT93bRiY4e5uVn9Pt6li+NxpbuYc8RjkRp6grS1TO2JaaHWv3cv72WF987Hju2eF4em9ZVc1FF0ZjO2cuX5qEw20duhrffBrb1i+ewfvEc5I7afUM910LBGDOjDLxddLKzh0OtAUSEvEwfAP5QhLKi7LjP711i2tI9tv4GJzt7eGhnHc/tOxq71VRZnM3GtdWsOa1kTLuQe2X40ijM8o1qVdJAFgrGmBll4O2iuXmZHGr1c7QtQG6GF38oQiii3HHJwkHP7Q6Gaeoc2xLTdn+Ix3Y38PM3DtHjbjybm5/BLaur+PRZc0fceDacrPQ0CrPSyUofeb/CSCwUjDEzSkNLN4VZvtjn+Vk+QDna3kObP0RZnNVHwbDTCnMsJa39wQhPvd7I43sa6OpxlqgWZfu4YWUlXzy/lHSvZ8z/LTkZXgqyfGQmsHktURYKxpgZpbwom+MdgdiVAoA3zcNFFUU8evuqfo+N9i4xDYRHfasoGI7y7NtHeGRXHS3dzhLVnPQ0rl9ezlcuKhvzb/UiQk6Gc2VwKoEyFAsFY8yMcsclC/nuM+/QHQyT5Usb8nZRRyBES1do1FVMI1HlxQPHuH9HHUfbAwCkez1cu2Q+G1ZUUNDnKmU0nDkP58rAlzb+YdDLQsEYM6OsXzyH7+PMLTS2dA+6XTTWKqaqyo6Pm9iyrYbaJmflkkfgivNK+caqSmbnZYxwhvg8fcLAO4Fh0MtCwRgz4/QuzewrHHHmDTrHsMT0jXqn/eW7Rzpixz515mxuXVM15CqmkaR5hIIsH/mZPjynMAk9WhYKxpgZTVVp7Q7R6h/9EtP3j3aweVsNe+taYsdWVBezcU0VLV0h/un5DznS7qc0P4sNy8tZsbB4xHN6PR4nDLK8p7Q8dawsFIwxM9ZY5w3qm7q5d0cNr3xwMnbs3Pn5bFpXzfllhf3KVOdnemnq6uHulz7kTk4fMhh8ac7u47yM5IRBLwsFY8yMM9Z5g+PtAR54tY7fvHOU3hJHC2fnsGltNSuri2Nv5gPLVPdOaD+2u2FQKKR7PRRmp5N7ChvOxlNSRiEi/wPYBCiwD7gVyAYeB6qAWuB6VW0Z4hTGGDNqY+1+1tod5Cev1fP0m4cJRZw0KC3I5LY1VXxq8ZxB7S/jlanO9Hk42u6PfT4eu48nwqSPRkQWAN8GzlZVv4g8AWwAzgZeVNUfishdwF3An0/2+Iwx089Yu5919YR5cm8jT+5pxO9eVZTkpPONiyu54tx5Q64GKs3Poqmrp19Dm0Aoyrz8rHHdfTwRkhVRXiBLREI4VwiHge8A692vPwC8jIWCMeYUdfaEaRll97NgOMrTbx3mJ7vqaXN7I+RletmwvJxrL1ww4g7iDcvLufulD/GHImT6PARCUSKq/F/rF1FakHVK/z0TbdJDQVUPicg/APWAH3heVZ8XkbmqesR9zBERiVuzVkRuB24HqKiomKxhG2OmmJ5whKbOIIFRzBtEospv3jnKg6/WcbyjB4BMr4cvLy3jq8vKyU2gcxnAioXF3MnpPLa7geMdAcqLs/nDP1g0psY9ky0Zt4+KgKuBaqAVeFJEbkz0+ap6D3APwLJly8bWzcIYM22NZd5AVXnlw5Pcu62Ghhbnvr/XI3zhfGfjWXHO6NpfigiXnj2HLy0tm5BSFBMpGbePPg3UqOoJABH5GbAaOCYipe5VQilwfLiTGGNMX9Go0uoP0TaK/Qaqyp46Z+PZB8c6ARDgsrPmcMvqKuYXju5Wj4iQm+GlMHtiS1FMpGSEQj2wSkSycW4fXQbsAbqAm4Efun8/nYSxGWOmoPZAiJau0bXCfPdwO5u31fBmQ2vs2OpFJdy2poqFs3NH9fq9dYkKJ6kUxURKxpzCLhH5KfA6EAbewLkdlAs8ISIbcYLjuskemzFmahnLfoOak13cu62G7R83xY4tKS9g49pqzplfMKrX761LVJidfkr9EFJJUlYfqepfA3894HAPzlWDMcYMKxSJ0jLKOkVH2wLcv6OWF949Ru/1xBlzc9m4tppllUWj2kXsESE/y0dBlm/ahEGv1No1YYyZ9vr2Ry6P09BmOGOZN2juCvLwzjqeffsIYff2UllRFhvXVnPJ6bMsDAawUDDGTJqB/ZGPdwT47jPv8H0YMRjaAyFaR1GnqDMQ5vE9DTy1t5GA2/5ydm4GN6+u5HPnzBvVm7pH3Iql0zgMelkoGGMmzcD+yNnpXrqDYX70ysEhQ2G08waBUIRfvHGIR3c30OEuS83P9HLDygquXrJgVEtE0zxCfqZzZTDe5atP5YppIlkoGGMmzcD+yOAUi2ts6R702NH2NwhHojy3/ygPvVpHU1cwdu7rlpZx3bKyUdUYmuheBqdyxTTRLBSMMZMmXn9kfyjSrxHNaPsbRFX53XvHuW9HLYdbnfaXvjThqgvmc8PKCgqzE994NlmNbcZyxTRZLBSMMZNmpP7InT1hmjuDCc0bqCq7aprZsq2Gj090AU77y8+dM4+bLq5kbn5mwuOa7MY2o7limmwWCsaYSTNUf+RVi0o43OpPuE7R242tbNlWw75D7bFjl5wxi9tWV1NRknj7y2Q1tknkiilZLBSMMZOqb3/k3jpFh1v9IzzL8dHxTrZsq2FXTXPs2NLKIjatrebMeXkJjyHZjW1GumJKJgsFY8ykG21/g0Mtfu7dXsPv3j8RO3ZWaR6b1lZzYUVRwq+bKr0MhrpiSvZ8AlgoGGMm2Wj6G5zo6OHhnXU8t/9orK5RZUk2G9dUs+a0koRv+eRkeCnI8o3YB2Ey9b1iSiUWCsaYSTGa/gbt/hCPvlbPz988TNDdeDY3P4NbV1dx2VlzE95AlpvhpSDbR4Y3dcIg1VkoGGMmVCSqNHcF6QiERnysPxjhqdcbeXxPA109TngUZfu4YWUlXzy/NOGNZ0756vQp18sgFVgoGGMmhKrSHgjT2j1ySetgOMqzbx/hkV11tHQ74ZGTnsZXl5fz5YvKEpoDmA69DFKBhYIxZtx1B8M0dY48bxCJKi8eOMb9O+o42u5sPEv3erh2yXw2rKigYMBa/nimUy+DVGChYIwZN8GwU5qiOzh8aQpVZftHTdy7vYbaJmfDlkfgC+eVcuOqSmbnZYz4WiJCfqYzgWxhMH4sFIwxpywaVVq6g7QHwiOWpnijvoXN22o4cKQjduxTZ87m1jVVCW3eitfYJlWLy01FFgrGmFPSEQjRnEArzA+OdfDjrTXsrWuJHVtZXczGtdWcNmfk9pdD9TJI5eJyU5GFgjFmTBItaV3f1M29O2p45YOTsWPnzs9n07pqzi8rHPF1RipSl8rF5aYiCwVjzKj0lqboDAw/b3CsPcCDr9bxm3eO0nsRsXB2DpvWVrOyunjEjWe9ReryMr3DVixN5eJyU5GFgjEmIYmWpmjtDvLIrnqeeeswoYjzuPmFmdy6uppPLZ6NZ4Qw8KV5yM/ykZ+ZWJG6VC4uNxVZKBgzg4x1QjaR0hRdPWGe3NvIk3sa8bu3lEpy0vnGxZVcce68EVcIjbViaSoXl5uKLBSMmSHGMiGbSGmKYDjK028d5ie76mnzOxvP8jK9fG15OddcuGDEekO+NA+F2T7yMkfekxBPKheXm4osFIyZIUYzIZtIaYpIVPnNO0d58NU6jnf0AJDp9fDlpWV8dVk5uZnDv714PR4Kc8anl0GqFpebiiwUjJkhEpmQVVXa/WFauoNDzhuoKq98eJJ7t9XQ0OL0QfB6hC+e72w8K84Zvv2l1+PcJkp0zsBMLgsFY2aIkSZkRypNoarsqWth89YaPjzeCYAAnzl7LjevrqS0IGvY10/zCIVZ6ZPW8tKMjYWCMTPEUBOyG9dUcbQtMGxpincPt7N520HebGiLHVuzqITb1lZTPStn2NcdaZ+BSS0WCsbMEAMnZBcUZvH1lRUsmps3ZCDUnOxiy7YadnzcFDu2pLyQTWurOXt+/rCvZ2EwNVkoGDOD9E7ItgdCtLilKeLVKjrS5uf+HXX89t1j9H71jLm5bFpbzdLKomFv//TeJhpp05lJTRYKxswg/mCEpq6eWDezgZq7gjy0s45fvX2EsLsNubwoi9vWVnPJ6bOGDYPeHcg2ZzC1WSgYMwOMVNK6MxDm8T0NPLW3kYAbGLNzM7h5dSWfO2fesO0vx7rpzKQmCwVjprGIW9K6Y4iS1oFQhJ+/cYjHdjfQ4dYyKsjy8fWVFVx9wfxh21mmez0UZqeTm2FvI9OJ/d80ZhrpW8aiND+T65aWsay6eNDjwpEoz+0/ykOv1tHUFQScPQvXLSvjuqVl5AzzRp/hS6Mo29dvaauZPuz/qjHTRG8ZizQPZPvSONoe4P+8+CF3Xno6KxY6wRBV5XfvneC+HTUcbnXaX/rShKuXzOfrKyoozB5645mFwcxg/3eNmSb+4/cfIyg+j1NrqHcvwmO7G1heXcSumma2bKvh4xNdgNP+8nPnzOOmiyuZm5855HkzfWkUZaeTlT58DSMzPVgoGDPF9c4b1DZ1kT+g3lCmz0N9cxd3PvYm+w+3x45fcsYsbltdTUXJ0OWls9LTKMyyMJhpkhIKIlIIbAbOBRS4DXgfeByoAmqB61W1Jf4ZjJl+RlvWemB/g9L8LJq6eshyq5IGQhGOd/QQCEdp7nYK2y2rLGLTumrOmJs35Hmz070UZvtGrG5qpqfhC5xPnLuBX6vqYuAC4ABwF/Ciqp4OvOh+bsyM0DsfcLwj0K+s9cvvHY/7+PZAiIZmP81dnxSu27C8nHBUaQ+EONzmp77FH1teelZpHv943fn876+cP2Qg5GR4WVCUxbyCTAuEGWzSrxREJB+4BLgFQFWDQFBErgbWuw97AHgZ+PPJHp8xyZBoWevhitZVz86hvCib12qbY8fm5mXw3y89jdWLSobcQ5Cb4aUg20eG14LAJOf20ULgBHCfiFwA7AXuBOaq6hEAVT0iInGvm0XkduB2gIqKiskZsTETbKSy1oFQhOau+M1u2vwhHn2tnl+8eTi2U3lefia3rK7ksrPmDrnxLDfDS2F2+rB7EczMk1AoiMgioFFVe0RkPXA+8KCqto7xNS8CvqWqu0TkbkZxq0hV7wHuAVi2bNnQjWKNmUKGKms9vzCLY+0BunoG70T2ByP89PVGntjdQFfQCYuibB83rqrki+eX4hui/WVOhjNnYFcGJp5ErxSeApaJyGnAFuAZ4CfAFWN4zUacgNnlfv5TnFA4JiKl7lVCKRD/Zqox09DAstbdwTA9YeXaCxcMCoRgOMqzbx/mkV31tLgTyDkZaWxYXs6XLiqLTTQPZGFgEpFoKERVNSwi1wL/rKr/n4i8MZYXVNWjItIgImeq6vvAZcC77p+bgR+6fz89lvMbMxX1lrX+z99/TH1zN3PyM9mwrJwVfXYjR6LKbw8c4/4dtRxrd9pfpns9fOnCBWxYXk5+Vvwex7aayIxGoqEQEpGv4bxZX+keG1uXbce3gEdEJB04CNyKsxLqCRHZCNQD153C+Y2ZcpZWFfG/Z19AONp/EllV2f5RE1u211DX5MwxpHmEK86dx42rKpmdlxH3fBYGZiwSDYVbgf8G/EBVa0SkGnh4rC+qqm8Cy+J86bKxntOYqWq4ctZv1LeweVsNB450xI5dungOt66uYkFR/PaXmb40inPSLQzMmCQUCqr6roj8OVDhfl6Dc5vHGDNGPeEILV2huOWs3z/aweZtNeyt+2T/5qqFxWxcU82iOblxz5fu9VCck261icwpSXT10ZXAPwDpQLWILAG+r6pXTeDYjJmWwpEoLd0hOgKhQV+ra+rivu21vPLhydixc+fn8811CzmvrCDu+ayEtRlPiX4XfQ9YgbOhDFV9072FZIxJkKrS2h2izR+K7ULudaw9wAM76nj+3aO4Dc9YNDuHjWurWVldHHfjmYWBmQiJfjeFVbVtwDem7REwJgGqSnsgTFt3aNAkckt3kEd21fPLtw4Tijg/UvMLM7l1dTWfWjwbj4WBmWSJflftF5GvA2kicjrwbWDHxA3LmOmhsydMS9fgshRdPWGe3NPIk3sb8bu7lEty07lpVSWfP3ce3jgbz9K9Hoqy04dtgGPMqUr0u+tbwF8CPTib1n4D/O1EDcqYZBttxdKBuoNhmruCg1YUBcNRnn7zEI/sqqfdbX+Zl+nlaysquGbJ/LgrhiwMzGQa8btMRNKAZ1T10zjBYMy01lux1Jcm/SqWfh9GDIZAKEJLdxB/sH+NokhU+fX+ozz4ah0nOp2NZ5leD19eWsZXl5WTmzn4R9HCwCTDiN9tqhoRkW4RKVDVtskYlDHJlGjF0r5CkSgtXUE6B5SkiKryygcnuXd7DY0tfgC8HuHKC+Zzw8oKinMGt7+0MDDJlOh3XQDYJyIvAF29B1X12xMyKmOSaKSKpX31dj3rCITRPiuKVJU9dS1s3lrDh8c7ARDgM2fP5ebVlZQWDN54ZmFgUkGi332/cv8YM+0NVbG0rOiT1pWRqNP1rM0f6hcGAO8cbmPz1hreavzkwnrNaSXctqaa6lk5g14vw5dGUbbPNp2ZlJDojuYH3DpFZ7iH3lfVwTtvjJkGBlYs9YcihCLKHZcsJNonDAbuNag52cWWbTXs+LgpdmxJeSGb1lZz9vz8Qa9jO5BNKkp0R/N6nG5otThXweUicrOqvjJhIzMmSXorlv7olYM0tnRTVpTN7euqubCiiIaWbiLR/mFwuNXP/TtqefHA8djmnTPm5rJpbTVLK4sGbTyz20QmlSX6XfmPwGfdUteIyBnAo8DSiRqYMcm0fvEc1i+e02/jWVNXT7/HNHX28PDOen617whhNyjKi7K4bW01l5w+y8LATEmJfnf6egMBQFU/EJFTKZ1tTMprD4Ro6w4N2njWGQjz2O56fvb6IQLuPoQ5eRncfHElnz1n3qD2lzZnYKaSRL9L94jIFuAh9/MbcHorGzPtDLULORCK8PM3DvHoaw2xpacFWT6+vrKCqy+YP6jXsYWBmYoS/W79Q+CPcMpbCPAK8O8TNShjkmGovgbhSJTn9h/loVfraOoKApCdnsZ1S8u4blnZoDf9TF8aRdnpZKVbPwMz9SQaCl7gblX9J4jtco7f7smYKaYnHKG5a/Au5KgqL713nPu213KkLQCAL024ZskCvr6igoLsAXsZ0tMozLIwMFNboqHwIvBpoNP9PAt4Hlg9EYMyZjKEIlFauoN0BvrvQlZVdh5sZsv2Gg6ecPZqegQuP2ceN11cyZz8zH6Pz0p3rgys05mZDhINhUxV7Q0EVLVTRLKHe4IxqSocidLqDw3ahQzwVmMrm7fW8M7h9tixPzhjNreuqaKiuP+3fIYvjWK7TWSmmURDoUtELlLV1wFEZBngn7hhGTP+olGldYhdyB8e62DLthpeq/2k/eWyyiI2ravmjLl5/R5rS0vNdJbod/UfA0+KyGGc5jrzga9O1KCMGW/tgRCtXYOb3DS2dHPf9lp+9/6J2LGzS/PYtG4hS8oL+z3Wl+ahKGfo5janWm7bmFQwbCiIyHKgQVV3i8hi4A7gS8CvgZpJGJ8xp6Q7GKapc/Dy0hMdPTy0s47n9h2Jtb+sKslm49pqVi8q6bfxzJfmoSDbR16GN25bTDi1ctvGpJKRrhR+hDPBDHAx8Bc4DXeWAPcAX5mwkRlzCobqa9DmD/Hoa/X84s3DsaWn8/IzuWVNFZctntNv45nX46EwZ/gw6DWWctvGpKKRQiFNVZvdj78K3KOqTwFPicibEzoyY8YgGHZWFHUN6GvgD0b46d5GntjTQJcbFEXZPm5cVckXzy/F16f9ZZpHKMxKJz9r5DDoNZpy28akshFDQUS8qhoGLgNuH8VzjZk04UiU5jjLS4PhKM++fZiHd9bT6ncK++ZkpLFheTlfuqiMrD7LSEWEgiwfhVk+PJ7EwqBXIuW2jZkKRnpjfxT4vYicxFlttBVARE4DrAubSbpIVGntDtI+YHlpJKr89sAx7t9Ry7F2p5BdhtfDtRcuYMPycvL7/FYvIuRneinMTh9UtyhRw5XbNmYqGTYUVPUHIvIiUAo8r5/81Hlw5haMSYqh+hqoKts+auLe7TXUNTm3btI8whXnzeMbqyqZlfvJRnwRIS/TS2GWD2+aZ9BrjEa8ctu2+shMRYn0aN4Z59gHEzMcY4YXjapTvdQfGtTX4PV6p/3le0c7YscuWzyHW9ZUsaDwk/aX4xkGffWW2zZmKrN5ATMlqCrt/jCt/uCgMHjvaDtbttawt741dmzVwmI2rqlm0Zzcfo/Ny/RRlD2+YWDMdGKhYFJa3yY3Azee1TV1ce/2WrZ+eDJ27LwFBWxaW815ZQX9HpuT4aUoO31QeWtjTH8WCiYlDRcGx9oDPLCjjuffPRrbeLZodg4b11azsrq43zLSTF8axTlWrM6YRFkomJSiqnT0hON2PGvtDvLwrnp++dZhQhEnDRYUZnHrmirWnzkbz4BdyMU5Vp/ImNGynxgzrMms59MRCNEaJwy6esI8uaeRJ/c24g85G89KctO5+eJKLj9nXr/5AY8IRdmj23hmjPmEhYIZ0mTV8xmq/WVPKMLTbx3mJ7vqaXc3peVlevnaigquXTKfjAG3hPIyfRTnjH2vgTHGQsEMY6Lr+QwVBpGo8l/7j/Lgq7Wc7HTaX2b6PHxlaRnXLysfVKU0O91LUY6PDO/Q8wZWwdSYxFgomCFNVD2fzp4wrd3BQb2Qo6q88sEJ7t1eS2OL067D6xGuvGA+N6ysoDgnvd/jE21yYxVMjUlc0kLB7fO8Bzikql8UkWLgcaAKqAWuV9WWoc9gJtp41/Pp6gnTEicMVJU9dS38eGsNHx13Gvx5BD5z9lxuvriKeQX921+OdhLZKpgak7hkXincCRwA8t3P7wJeVNUfishd7ud/nqzBmfGr59MdDNPcNTgMAN453MbmrTW81fhJKa01p5Vw25pqqmfl9HusL81DYbaPvEzfwNMMyyqYGpO4pISCiJQBXwB+APxP9/DVwHr34weAl7FQSKpTrefjDzo9DQKhyKCvHTzRyZZttbx6sCl2bEl5Id9cV81Zpfn9Huv1OE1u8jPHtqLIKpgak7hkXSn8M/BnQN/mt3NV9QiAqh4RkbjvPCJyO24J74qKigkephlLPZ/hwuBwq5/7d9Ty4oHj9BarOHNuHhvXVrG0sqjfm75HhMJsHwVZvlNaXmoVTI1J3KSHgoh8ETiuqntFZP1on6+q9+B0fWPZsmU6wsPNJBouDJo6e3h4Zz3P7jsSq11UUZzNbWuqWHf6rH5v+uNRyrovq2BqTOKScaWwBrhKRK4AMoF8EXkYOCYipe5VQilwPAljM2MwXBh0BsI8truen71+iIA7pzAnL4ObV1fx2bPnDnrTz830UpydPu4F66yCqTGJmfRQUNXvAN8BcK8U/kRVbxSRvwduBn7o/v30ZI/NjM5QfZB7v/az1w/x2O4GOt3WmAVZPm5YWcFVF8wfVJgukb0GxpiJl0r7FH4IPCEiG4F64Lokj8cMIRSJ0tIVjL3ZD/zac/uO8tDOOpq7nI1n2elpXL+sjK8sLes32QtWsM6YVJPUUFDVl3FWGaGqTTh9oE2KCkeitHSH6Ozp3/oSnI1nL713nPu213KkLQCAL024ZskCvr6igoLs/ktCfWkeSnLTB4WEMSa57CfSjCgcidLmDw3qgwzOxrNXDzZx77ZaDp7sApyNZ5efO4+bVlUyJ7//xjOvx0NRzuj3GhhjJoeFghnScGEA8FZjK5u31vDO4fbYsT84Yza3rqmiorj/HoDxWl5qjJlYFgpmkEhUafM7fZDjhcFHxzvZvK2G12qaY8eWVxWxcW01Z8zN6/fYeMtLrTidManLQsHERPuEQTROGDS2dHPf9lp+9/6J2LGzS/PYtG4hS8oLBz0+Xj9kK05nTGqzUDBO60t/mFZ/MLaxrK8THT08+God/7X/SKz9ZVVJNhvXVrN6Ucmg20HD9UO24nTGpDYLhRmst/Vla9fgPsgAbf4QP9lVzy/ePBRrf1lakMnNq6u4bPGcQRvPElleasXpjEltFgoz1FCtL8GpavrU3kM8vqeBbndjWlG2j2+squQL55fiG7DbeDSlrK04nTGpzUJhhhkuDILhKL98+zCP7Kyn1R8CICcjja8tr+DaixaQNeAKIM0jFGanj6p6qRWnMya1WSjMEEO1vgRntdEL7x7jgVdrOdbeA0CG18O1Fy5gw/Jy8gfc7hERCrJ8FGb58IyyYJ0VpzMmtVkoTHPDNbhRVbZ+dJL7ttVS1+zc00/zCF84r5QbV1UwKzdj0HPirSgaLStOZ0zqslCYpgKhCM1d8SuXArxe18KPt9Xw/tEOAAS4dPEcbllTxYLCrEGPH25FkTFm+rBQmGYCoQit3SG6g4OL1QEcONLOlm01vF7fGju2amExG9dWs2h27qDHZ/jSKLGCdcbMGBYK08RIYVDX1MW922vZ+uHJ2LHzFhTwzXXVnLugYNDjfWkeinLSyU1gRZExZvqwn/gUNlI5iJffO85/vPwx9S3dzM3LZMPyclYsLO53jqPtAR7YUcsL7x6LbTxbNDuHjWurWVldPGjVUJpHKMxKJz8r8RVFVrbCmOlD4tW2mSqWLVume/bsSfYwJkTfchB9l25+/6pzWL94Ds/vP8r3nn2HNBEyfR4CoSjhqHLnpaezYmExLd1BHtlZzy/fPhzbeLagMItb11Sx/szZeAa84Y+1BeZI4zTGpB4R2auqy+J9za4UUtRQ5SD+4/cfs7g0n39/+WPSRGJ7B3rfkB/ZVc87R9p4cm8jgZCz4qgkN52bL67k8nPmxV01dCqTyFa2wpjpxUIhRQ0sBxFVxesR6pq66A6GOdLuJz/T2+/r/lCExtY29h1uAyA/08vXVlRwzZL5ZMSZKB6PSWQrW2HM9GKhkKJ6y0Fk+tKIRJVo1HnTn5fvLBctzc+iqauHTK+HtoCzFyHsThpk+jx8ZWkZ1y8rjztRPJ6TyFa2wpjpxRadp6iNa6sIhKK0+0NEolH8oQjhqLJheTkA1y8royMQpqapm+MdPbFAWL2ohIc3ruS2NdWD3vTTPEJJbgZlRVnjtqrojksWEooo3UGnEU93MGxlK4yZwuxKIcX09kFeNCePb33qNB7b3cDRdj/z8rPYsLyc5dVFvFbTzL07amP1icApWPfNtQu5/Lx5g8451knkRFjZCmOmF1t9lCLCkSit/hAdQ7S+BNh/qI3N22p4u7EtdmzNaSXctqaa6lk5cZ8z2klkW15qzPRnq49SWCSqtHYHh+yDDPDxiU62bKth58FP2l9eVFHIxrXVnFWaH/c5ifQ2GMi6ohljLBSSpLcPcvsQrS8BDrf6uX9HLS8eOE7vI86cm8emddUsrSyK+xyvx0Nx7tgmkW15qTHGQmGSJRIGTZ09PLyznmf3HYm1x6wozua2tVWsO21W3J3GIs5v94XZvoR3Ig9ky0uNMRYKkySRMOgIhHhsdwM/e/0QPW6p6zl5Gdy8uorPnj13yEni3AwvxTnpp1TOGmx5qTHGQmHCJRIG/lCEn79+iMd2N9DZ4xS0K8jyceOqCq48f/6Qk8Sv17XwxJ5GDrf5x2VS2LqiGWMsFCZI1A2DtmHCIBSJ8ty+Izy0s57mriAA2elpXL+sjK8sLev3G3tfaR7hnUNt/MtLH43rpLAtLzXGWCiM0VBLN6NRpT3ghEHvfMBAkajy0nvHuX9HLUfaAgD40oRrlizg6ysqKMj2xX1e736Doux07npq34RMCltXNGNmNguFMYi3dPOvnt7PXT2LObesYMgwUFVePdjEvdtqOXiyCwCPwOXnzuOmVZXMyc8c8jVz3HkDnztvYJPCxpiJYKEwBn2XbqoqGd40QpEoP95awz999YK4z3mrsZUfv1LDu0faY8fWnzGbW9dUUV489ESuL83DrNwMstL77zewSWFjzESwUBiDhpZuCjK9RKJKJKpuMHg42u4f9NgPjnWwZVsNu2tbYseWVxWxcW01Z8zNG/I10jxCYXY6+Znxm93YpLAxZiJYKIySqlKan8mxjgCZ3k9+ew+EorEKpgANzd3ct72Wlz84ETt2dmk+31xXzQXlhcO+Rl6mj+Kc4esU2aSwMWYiWCgkKBpVOgJhWv1BvnxRGXe/9CGqkX5dzzYsL+dERw8PvFrLr/cfjbW/rJ6Vw8a1VVy8sGTYjWWZvjRKctPJ8CZWmsImhY0x481CYQTxVhOtWFjMnZzer4LpleeXsre+hb96Zn+s/WVpQSa3rK7i0sVzhv2tf6j+Blaczhgz2SwUhhCJKu3+EO2B+EtLVywsZsXCYvzBCD/d28g//vYDuoMRwCljfdPFlVxxXmlstVA8w5WmsOJ0xphksFAYIJEdyADBcJRfvn2YR3bWx/oa5GZ42bC8nGsvWhDrnTyUkUpTWHE6Y0wyTHooiEg58CAwD4gC96jq3SJSDDwOVAG1wPWq2jLUeU7VwFszm9ZWs6SikI5AeNgwiESV5989xgM7ajne0QNAhtfDly5awIbl5eRlxt941ivd6ywxHamkte1DMMYkQzKuFMLA/62qr4tIHrBXRF4AbgFeVNUfishdwF3An0/EAPreminI9HK4zc//8/R+7rz0dFYsLI77HFVl64cnuXd7LfXNzhtzmkf44nml3LiqgpLcjGFfs3eJaUHW8KHRy/YhGGOSYdJDQVWPAEfcjztE5ACwALgaWO8+7AHgZSYoFH70ykG8HmeCNxRVMtI8RKPKY7sb4obC3roWNm+r4f2jHQAIcNlZc7h5dRULCrMGPb4vESHPLU0xmlaYtg/BGJMMSZ1TEJEq4EJgFzDXDQxU9YiIxL1xLiK3A7cDVFRUjPo1g+EotU1d5GakEe0zgZzpG7z57MCRdjZvq+GN+tbYsVULi9m4tppFs3NHfK2s9DRKcjISboXZl+1DMMYkQ9JCQURygaeAP1bV9kQbw6jqPcA94PRoTvT1AqEIbf4QXT1h5uZl0tTV028yuO/ms9qmLu7dVsu2j07Gvn7eggK+ua6acxcUjPhavjQPxTnp5Iyh+1lftg/BGDPZkhIKIuLDCYRHVPVn7uFjIlLqXiWUAsfH47UCoQit3SG6g+HYsQ3Ly7n7pQ/xh/pvPvvs2XP5u1+/xwvvHottPDttdi4b11Wxoqp4xI5mHhEKs30UZI29+5kxxiSTDNUsfsJe0Hm3fABoVtU/7nP874GmPhPNxar6Z8OdK7fsTL3yuw/Eva3SHQzT2h0iEIrEfe5rB5tjm89KcjIoyPaxu7Y5tvGsrCiLW1dX8QdnzsYzwht8b0nrwlHOGxhjTDKIyF5VXRb3a0kIhbXAVmAfzpJUgL/AmVd4AqgA6oHrVLV5uHMVVizWpXf+J6GI8v2rzmH94jl09oRp7Q4SDEeHeyoAnT1hntjTwE/3NhIIOY+flZvOTRdXcfk5cxNqb5mb4aWoT0lrY4xJdcOFQjJWH23DWcATz2WjPV92upeunhD/9vJHLJqTSygychj0hCL84s3DPPpaPe0B57ZSfqaXr62o4Jol88kYYQ8BOPsNSnIGl7Q2xpipbMrvaI5EFa/HQ0Nz94iBEIkq/7X/KA++WsvJTqf9ZabPw3VLy7huWfmg2kPxjHa/gTHGTCVTOhRUIRyJ4g9F+pWtHiiqyu/fP8F9O2ppbHGWnfrShCvPn88Nqyooyk4f8bVs3sAYMxNM6VAAxR+KxMpWD/qqKq/VNrNlay0fnegEnPaXnzl7LjevrmLeMO0v+zqV/QbGGDOVTOlQiCiU5GSwYXn5oJ3I+w+18eOtNew71BY7tva0Wdy2toqqkpyEzj9e+w2MMWaqmNLvdotm5w7qifzxiU62bKth58FPFi5dVFHIxrXVnFWan9B5hytpbYwx09mUDoW+DrX6uX97LS+9d5zeRbZnzsvjm2uruaiyKOHz5LglrW2JqTFmJpryodDU2cNDO+v51b4jsWY4lcXZ3Lq2inWnzUr4N31fmlPS2paYGmNmsikdCic6Aty45TV63I1qc/IyuGV1FZ85e27CK4Q8IhRlp5Of5bVbRcaYGW9Kh0JTV5D0cJTCLB83rKrgyvPnj2qFUG6ml+LsobufGWPMTDOlQ8Ejwq2rq/jy0gX9mtGMJMOXRklO+ojdz4wxZqaZ0qGwaHYO37i4MuHHez0einJ8I7bMNMaYmWpKh0KaJ7HbPlbS2hhjEjOlQyEReZk+inOsNIUxxiRi2oZCVnoaxTnpZHht3sAYYxI17ULBSlMYY8zYTZt3ThGhyOYNjDHmlEyLUMh1S1PYfgNjjDk1UzoUPALzC7Nsv4ExxoyTKf2rdZpHLBCMMWYcTelQMMYYM74sFIwxxsRYKBhjjImxUDDGGBNjoWCMMSbGQsEYY0yMhYIxxpgYCwVjjDExFgrGGGNiRFWTPYYxE5ETQF2yxxHHLOBksgcxAhvj+JkK47Qxjp+pMM6RxlipqrPjfWFKh0KqEpE9qros2eMYjo1x/EyFcdoYx89UGOepjNFuHxljjImxUDDGGBNjoTAx7kn2ABJgYxw/U2GcNsbxMxXGOeYx2pyCMcaYGLtSMMYYE2OhYIwxJsZCYZyISLmI/E5EDojIOyJyZ7LHNJCIZIrIayLyljvGv0n2mIYiImki8oaIPJvssQxFRGpFZJ+IvCkie5I9nnhEpFBEfioi77nfmxcne0wDiciZ7r9h7592EfnjZI9rIBH5H+7PzX4ReVREMpM9poFE5E53fO+M9d/Q5hTGiYiUAqWq+rqI5AF7gWtU9d0kDy1GRATIUdVOEfEB24A7VXVnkoc2iIj8T2AZkK+qX0z2eOIRkVpgmaqm7EYmEXkA2Kqqm0UkHchW1dYkD2tIIpIGHAJWqmrKbEwVkQU4Py9nq6pfRJ4AnlPV+5M7sk+IyLnAY8AKIAj8GvhDVf1wNOexK4VxoqpHVPV19+MO4ACwILmj6k8dne6nPvdPyv1WICJlwBeAzckey1QmIvnAJcAWAFUNpnIguC4DPk6lQOjDC2SJiBfIBg4neTwDnQXsVNVuVQ0DvweuHe1JLBQmgIhUARcCu5I8lEHc2zJvAseBF1Q15cYI/DPwZ0A0yeMYiQLPi8heEbk92YOJYyFwArjPvRW3WURykj2oEWwAHk32IAZS1UPAPwD1wBGgTVWfT+6oBtkPXCIiJSKSDVwBlI/2JBYK40xEcoGngD9W1fZkj2cgVY2o6hKgDFjhXnKmDBH5InBcVfcmeywJWKOqFwGfB/5IRC5J9oAG8AIXAf+hqhcCXcBdyR3S0NzbW1cBTyZ7LAOJSBFwNVANzAdyROTG5I6qP1U9APwd8ALOraO3gPBoz2OhMI7c+/RPAY+o6s+SPZ7huLcRXgYuT+5IBlkDXOXer38MuFREHk7ukOJT1cPu38eBn+Pcy00ljUBjn6vBn+KERKr6PPC6qh5L9kDi+DRQo6onVDUE/AxYneQxDaKqW1T1IlW9BGgGRjWfABYK48adxN0CHFDVf0r2eOIRkdkiUuh+nIXzjf5eUgc1gKp+R1XLVLUK51bCS6qaUr+RAYhIjrugAPeWzGdxLt9ThqoeBRpE5Ez30GVAyix8iONrpOCtI1c9sEpEst2f9ctw5g1TiojMcf+uAL7EGP49veM9qBlsDfANYJ97zx7gL1T1ueQNaZBS4AF3hYcHeEJVU3bJZ4qbC/zceX/AC/xEVX+d3CHF9S3gEffWzEHg1iSPJy73HvhngDuSPZZ4VHWXiPwUeB3nlswbpGa5i6dEpAQIAX+kqi2jPYEtSTXGGBNjt4+MMcbEWCgYY4yJsVAwxhgTY6FgjDEmxkLBGGNMjIWCMSMQkc4Bn98iIv+arPEYM5EsFIxJEne/iDEpxULBmFMgIpUi8qKIvO3+XeEev19EvtLncZ3u3+vdvhs/wdnomCMiv3J7XOwXka8m6T/FGMB2NBuTiKw+u9QBioFn3I//FXhQVR8QkduAfwGuGeF8K4BzVbVGRL4MHFbVLwCISMG4jtyYUbIrBWNG5lfVJb1/gO/2+drFwE/cjx8C1iZwvtdUtcb9eB/waRH5OxFZp6pt4zZqY8bAQsGY8dVbNyaM+/PlFlBL7/OYrtiDVT8AluKEw/8Skb6BY8yks1Aw5tTswKnmCnADTstGgFqcN3tw6vD74j1ZROYD3ar6ME4Tl1QubW1mAJtTMObUfBu4V0T+FKfLWW8V0h8DT4vIa8CL9Lk6GOA84O9FJIpT2fIPJ3i8xgzLqqQaY4yJsdtHxhhjYiwUjDHGxFgoGGOMibFQMMYYE2OhYIwxJsZCwRhjTIyFgjHGmJj/HyB2XoJzo9uuAAAAAElFTkSuQmCC\n",
      "text/plain": [
       "<Figure size 432x288 with 1 Axes>"
      ]
     },
     "metadata": {
      "needs_background": "light"
     },
     "output_type": "display_data"
    }
   ],
   "source": [
    "#lets go deeper \n",
    "plt.title(\"Regression Line\")\n",
    "sns.regplot(df.Hours,df.Scores)"
   ]
  },
  {
   "cell_type": "markdown",
   "metadata": {},
   "source": [
    "From the above graph we can easily say that this has a positive correlation , means as much as you study you will get the good score"
   ]
  },
  {
   "cell_type": "code",
   "execution_count": 10,
   "metadata": {},
   "outputs": [
    {
     "data": {
      "text/plain": [
       "<AxesSubplot:xlabel='Scores'>"
      ]
     },
     "execution_count": 10,
     "metadata": {},
     "output_type": "execute_result"
    },
    {
     "data": {
      "image/png": "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\n",
      "text/plain": [
       "<Figure size 504x216 with 2 Axes>"
      ]
     },
     "metadata": {
      "needs_background": "light"
     },
     "output_type": "display_data"
    }
   ],
   "source": [
    "plt.figure(figsize=(7,3))\n",
    "plt.subplot(131)\n",
    "sns.distplot(df.Hours,kde=True)\n",
    "\n",
    "plt.subplot(133)\n",
    "sns.distplot(df.Scores,kde=True)"
   ]
  },
  {
   "cell_type": "markdown",
   "metadata": {},
   "source": [
    "### Preparing the Data"
   ]
  },
  {
   "cell_type": "code",
   "execution_count": 11,
   "metadata": {},
   "outputs": [],
   "source": [
    "X = df.iloc[:, :-1].values  \n",
    "y = df.iloc[:, 1].values"
   ]
  },
  {
   "cell_type": "code",
   "execution_count": 12,
   "metadata": {},
   "outputs": [],
   "source": [
    "from sklearn.model_selection import train_test_split\n",
    "X_train, X_test, y_train, y_test = train_test_split(X, y, test_size=0.25, random_state=0)"
   ]
  },
  {
   "cell_type": "code",
   "execution_count": 13,
   "metadata": {},
   "outputs": [],
   "source": [
    "#importing required libraries for training \n",
    "from sklearn.linear_model import LinearRegression\n",
    "from sklearn.metrics import mean_squared_error,r2_score"
   ]
  },
  {
   "cell_type": "markdown",
   "metadata": {},
   "source": [
    "## Lets Fit the data and do Predictions"
   ]
  },
  {
   "cell_type": "code",
   "execution_count": 15,
   "metadata": {},
   "outputs": [
    {
     "name": "stdout",
     "output_type": "stream",
     "text": [
      "mse = 20.33292367497997\n",
      "r2_score = 0.9491095995820088\n"
     ]
    }
   ],
   "source": [
    "regression=LinearRegression()\n",
    "regression.fit(X_train,y_train)\n",
    "pred=regression.predict(X_test)\n",
    "mse=mean_squared_error(pred,y_test)\n",
    "r2=r2_score(pred,y_test)\n",
    "print(\"mse = {}\".format(mse))\n",
    "print(\"r2_score = {}\".format(r2))"
   ]
  },
  {
   "cell_type": "code",
   "execution_count": 16,
   "metadata": {},
   "outputs": [],
   "source": [
    "compare=pd.DataFrame()\n",
    "compare[\"actual\"]=y_test\n",
    "compare[\"predicted\"]=pred"
   ]
  },
  {
   "cell_type": "code",
   "execution_count": 17,
   "metadata": {},
   "outputs": [
    {
     "data": {
      "text/html": [
       "<div>\n",
       "<style scoped>\n",
       "    .dataframe tbody tr th:only-of-type {\n",
       "        vertical-align: middle;\n",
       "    }\n",
       "\n",
       "    .dataframe tbody tr th {\n",
       "        vertical-align: top;\n",
       "    }\n",
       "\n",
       "    .dataframe thead th {\n",
       "        text-align: right;\n",
       "    }\n",
       "</style>\n",
       "<table border=\"1\" class=\"dataframe\">\n",
       "  <thead>\n",
       "    <tr style=\"text-align: right;\">\n",
       "      <th></th>\n",
       "      <th>actual</th>\n",
       "      <th>predicted</th>\n",
       "    </tr>\n",
       "  </thead>\n",
       "  <tbody>\n",
       "    <tr>\n",
       "      <th>0</th>\n",
       "      <td>20</td>\n",
       "      <td>16.844722</td>\n",
       "    </tr>\n",
       "    <tr>\n",
       "      <th>1</th>\n",
       "      <td>27</td>\n",
       "      <td>33.745575</td>\n",
       "    </tr>\n",
       "    <tr>\n",
       "      <th>2</th>\n",
       "      <td>69</td>\n",
       "      <td>75.500624</td>\n",
       "    </tr>\n",
       "    <tr>\n",
       "      <th>3</th>\n",
       "      <td>30</td>\n",
       "      <td>26.786400</td>\n",
       "    </tr>\n",
       "    <tr>\n",
       "      <th>4</th>\n",
       "      <td>62</td>\n",
       "      <td>60.588106</td>\n",
       "    </tr>\n",
       "    <tr>\n",
       "      <th>5</th>\n",
       "      <td>35</td>\n",
       "      <td>39.710582</td>\n",
       "    </tr>\n",
       "    <tr>\n",
       "      <th>6</th>\n",
       "      <td>24</td>\n",
       "      <td>20.821393</td>\n",
       "    </tr>\n",
       "  </tbody>\n",
       "</table>\n",
       "</div>"
      ],
      "text/plain": [
       "   actual  predicted\n",
       "0      20  16.844722\n",
       "1      27  33.745575\n",
       "2      69  75.500624\n",
       "3      30  26.786400\n",
       "4      62  60.588106\n",
       "5      35  39.710582\n",
       "6      24  20.821393"
      ]
     },
     "execution_count": 17,
     "metadata": {},
     "output_type": "execute_result"
    }
   ],
   "source": [
    "compare"
   ]
  },
  {
   "cell_type": "code",
   "execution_count": 18,
   "metadata": {},
   "outputs": [
    {
     "data": {
      "text/plain": [
       "Text(0.5, 0, 'Index-->')"
      ]
     },
     "execution_count": 18,
     "metadata": {},
     "output_type": "execute_result"
    },
    {
     "data": {
      "image/png": "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\n",
      "text/plain": [
       "<Figure size 432x288 with 1 Axes>"
      ]
     },
     "metadata": {
      "needs_background": "light"
     },
     "output_type": "display_data"
    }
   ],
   "source": [
    "compare.plot(kind=\"bar\")\n",
    "plt.title(\"Bar Graph\",fontsize=20)\n",
    "plt.ylabel(\"Scores-->\",fontsize=15)\n",
    "plt.xlabel(\"Index-->\",fontsize=15)"
   ]
  },
  {
   "cell_type": "markdown",
   "metadata": {},
   "source": [
    "#### From the above graph our predictions and actual values are closer to each other"
   ]
  },
  {
   "cell_type": "code",
   "execution_count": 19,
   "metadata": {},
   "outputs": [
    {
     "data": {
      "image/png": "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\n",
      "text/plain": [
       "<Figure size 432x288 with 1 Axes>"
      ]
     },
     "metadata": {
      "needs_background": "light"
     },
     "output_type": "display_data"
    }
   ],
   "source": [
    "line = regression.coef_ * X + regression.intercept_\n",
    "plt.scatter(X,y,color='blue')\n",
    "plt.plot(X,line)\n",
    "plt.ylabel('Scores-->',fontsize=15)\n",
    "plt.xlabel('Hours-->',fontsize=15)\n",
    "plt.title('Regression Line',fontsize=20)\n",
    "plt.show()\n"
   ]
  },
  {
   "cell_type": "code",
   "execution_count": 20,
   "metadata": {},
   "outputs": [
    {
     "data": {
      "image/png": "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\n",
      "text/plain": [
       "<Figure size 432x288 with 2 Axes>"
      ]
     },
     "metadata": {
      "needs_background": "light"
     },
     "output_type": "display_data"
    }
   ],
   "source": [
    "plt.subplot(1,2,1)\n",
    "plt.plot(X,line)\n",
    "plt.scatter(X_train,y_train,color=\"red\")\n",
    "plt.grid()\n",
    "plt.title(\"Training data\")\n",
    "plt.xlabel(\"Hours-->\")\n",
    "plt.ylabel(\"Scores-->\")\n",
    "\n",
    "plt.subplot(1,2,2)\n",
    "plt.plot(X,line)\n",
    "plt.scatter(X_test,y_test,color=\"green\")\n",
    "plt.tight_layout(pad=1)\n",
    "plt.grid()\n",
    "plt.title(\"Testing data\")\n",
    "plt.xlabel(\"Hours-->\")\n",
    "plt.ylabel(\"Scores-->\")\n",
    "plt.tight_layout(w_pad=1)"
   ]
  },
  {
   "cell_type": "markdown",
   "metadata": {},
   "source": [
    "### Evaluating our model"
   ]
  },
  {
   "cell_type": "code",
   "execution_count": 21,
   "metadata": {},
   "outputs": [
    {
     "name": "stdout",
     "output_type": "stream",
     "text": [
      "mean_absolute_error: 4.130879918502486\n",
      "mean_squared_error: 20.33292367497997\n",
      "R_Squared_error: 0.9491095995820088\n"
     ]
    }
   ],
   "source": [
    "from sklearn import metrics\n",
    "print(\"mean_absolute_error: {}\".format(metrics.mean_absolute_error(pred,y_test)))\n",
    "print(\"mean_squared_error: {}\".format(metrics.mean_squared_error(pred,y_test)))\n",
    "print(\"R_Squared_error: {}\".format(metrics.r2_score(pred,y_test)))"
   ]
  },
  {
   "cell_type": "markdown",
   "metadata": {},
   "source": [
    "#### Let's train our model with complete dataset without splitting it"
   ]
  },
  {
   "cell_type": "code",
   "execution_count": 23,
   "metadata": {},
   "outputs": [
    {
     "data": {
      "text/plain": [
       "LinearRegression()"
      ]
     },
     "execution_count": 23,
     "metadata": {},
     "output_type": "execute_result"
    }
   ],
   "source": [
    "regression_complete=LinearRegression()\n",
    "regression_complete.fit(np.array(df.Hours).reshape(-1,1),np.array(df.Scores).reshape(-1,1))"
   ]
  },
  {
   "cell_type": "markdown",
   "metadata": {},
   "source": [
    "### Lets predict the score for 9.25 hours of study"
   ]
  },
  {
   "cell_type": "code",
   "execution_count": 25,
   "metadata": {},
   "outputs": [
    {
     "name": "stdout",
     "output_type": "stream",
     "text": [
      "score for 9.25 hours of study 'with' splitting dataset for training = [93.89272889]\n",
      "score for 9.25 hours of study 'without' splitting dataset for training = [[92.90985477]]\n"
     ]
    }
   ],
   "source": [
    "hours=9.25\n",
    "prediction_for_9_25=regression.predict([[hours]])\n",
    "prediction_for_9_25_1=regression_complete.predict([[hours]])\n",
    "print(\"score for 9.25 hours of study 'with' splitting dataset for training = {}\".format(prediction_for_9_25))\n",
    "print(\"score for 9.25 hours of study 'without' splitting dataset for training = {}\".format(prediction_for_9_25_1))"
   ]
  },
  {
   "cell_type": "markdown",
   "metadata": {},
   "source": [
    "### Conclusion "
   ]
  },
  {
   "cell_type": "markdown",
   "metadata": {},
   "source": [
    "#### score for 9.25 hours of study 'with' splitting dataset for training = 93.89272889\n",
    "#### score for 9.25 hours of study 'without' splitting dataset for training = 92.90985477"
   ]
  }
 ],
 "metadata": {
  "kernelspec": {
   "display_name": "Python 3",
   "language": "python",
   "name": "python3"
  },
  "language_info": {
   "codemirror_mode": {
    "name": "ipython",
    "version": 3
   },
   "file_extension": ".py",
   "mimetype": "text/x-python",
   "name": "python",
   "nbconvert_exporter": "python",
   "pygments_lexer": "ipython3",
   "version": "3.7.8"
  }
 },
 "nbformat": 4,
 "nbformat_minor": 4
}
